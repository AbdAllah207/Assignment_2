{
 "cells": [
  {
   "cell_type": "code",
   "execution_count": 10,
   "id": "deb57b47",
   "metadata": {},
   "outputs": [
    {
     "name": "stdout",
     "output_type": "stream",
     "text": [
      "Updated Weights: [[0.14981613 0.1997675 ]\n",
      " [0.24963225 0.29953501]] [[0.36407396 0.4617822 ]\n",
      " [0.46396477 0.56181801]]\n",
      "Final Outputs: [[0.75693192 0.76771788]]\n"
     ]
    }
   ],
   "source": [
    "class NeuralNet:\n",
    "    def __init__(self):\n",
    "        self.inputs = np.array([[0.05, 0.10]]) \n",
    "        self.targets = np.array([[0.1, 0.99]])\n",
    "        self.learning_rate = 0.5\n",
    "        \n",
    "        self.w_ih = np.array([[0.15, 0.20], [0.25, 0.30]]) \n",
    "        self.b_hidden = np.array([0.35, 0.35])\n",
    "        self.w_ho = np.array([[0.40, 0.45], [0.50, 0.55]]) \n",
    "        self.b_output = np.array([0.60, 0.60])\n",
    "    \n",
    "    def sigmoid(self, x):\n",
    "        return 1 / (1 + np.exp(-x))\n",
    "    \n",
    "    def sigmoid_derivative(self, x):\n",
    "        return x * (1 - x)\n",
    "    \n",
    "    def forward(self):\n",
    "        self.hidden_input = np.dot(self.inputs, self.w_ih) + self.b_hidden\n",
    "        self.hidden_output = self.sigmoid(self.hidden_input)\n",
    "        \n",
    "        self.final_input = np.dot(self.hidden_output, self.w_ho) + self.b_output\n",
    "        self.final_output = self.sigmoid(self.final_input)\n",
    "    \n",
    "    def backward(self):\n",
    "        error = self.targets - self.final_output\n",
    "        d_output = error * self.sigmoid_derivative(self.final_output)\n",
    "        \n",
    "        error_hidden = np.dot(d_output, self.w_ho.T)\n",
    "        d_hidden = error_hidden * self.sigmoid_derivative(self.hidden_output)\n",
    "        \n",
    "        self.w_ho += self.learning_rate * np.dot(self.hidden_output.T, d_output)\n",
    "        self.b_output += self.learning_rate * d_output.sum(axis=0)\n",
    "        self.w_ih += self.learning_rate * np.dot(self.inputs.T, d_hidden)\n",
    "        self.b_hidden += self.learning_rate * d_hidden.sum(axis=0)\n",
    "    \n",
    "    def train(self, epochs=1):\n",
    "        for _ in range(epochs):\n",
    "            self.forward()\n",
    "            self.backward()\n",
    "        print(\"Updated Weights:\", self.w_ih, self.w_ho)\n",
    "        print(\"Final Outputs:\", self.final_output)\n",
    "\n",
    "nn = NeuralNet()\n",
    "nn.train()"
   ]
  },
  {
   "cell_type": "code",
   "execution_count": null,
   "id": "63076fe7",
   "metadata": {},
   "outputs": [],
   "source": []
  }
 ],
 "metadata": {
  "kernelspec": {
   "display_name": "Python 3 (ipykernel)",
   "language": "python",
   "name": "python3"
  },
  "language_info": {
   "codemirror_mode": {
    "name": "ipython",
    "version": 3
   },
   "file_extension": ".py",
   "mimetype": "text/x-python",
   "name": "python",
   "nbconvert_exporter": "python",
   "pygments_lexer": "ipython3",
   "version": "3.9.13"
  }
 },
 "nbformat": 4,
 "nbformat_minor": 5
}
